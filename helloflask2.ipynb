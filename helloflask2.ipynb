{
 "cells": [
  {
   "cell_type": "code",
   "execution_count": 7,
   "metadata": {},
   "outputs": [
    {
     "name": "stdout",
     "output_type": "stream",
     "text": [
      " * Serving Flask app \"__main__\" (lazy loading)\n",
      " * Environment: production\n",
      "   WARNING: This is a development server. Do not use it in a production deployment.\n",
      "   Use a production WSGI server instead.\n",
      " * Debug mode: off\n"
     ]
    },
    {
     "name": "stderr",
     "output_type": "stream",
     "text": [
      " * Running on http://127.0.0.1:5000/ (Press CTRL+C to quit)\n",
      "127.0.0.1 - - [05/Mar/2021 13:13:07] \"\u001b[37mGET / HTTP/1.1\u001b[0m\" 200 -\n",
      "127.0.0.1 - - [05/Mar/2021 13:13:10] \"\u001b[37mGET /entry HTTP/1.1\u001b[0m\" 200 -\n",
      "127.0.0.1 - - [05/Mar/2021 13:13:14] \"\u001b[37mPOST /search4 HTTP/1.1\u001b[0m\" 200 -\n"
     ]
    }
   ],
   "source": [
    "from flask import Flask,render_template,request\n",
    "from vsearch2 import search4letters\n",
    "\n",
    "app=Flask(__name__)\n",
    "\n",
    "@app.route('/')\n",
    "def hello() -> str:\n",
    "           return 'Hello world from Flask!'\n",
    "    \n",
    "@app.route('/search4', methods=['POST'])\n",
    "def do_search() -> str:\n",
    "    phrase=request.form['phrase']\n",
    "    letters=request.form['letters']\n",
    "    return str(search4letters(phrase,letters))\n",
    "\n",
    "@app.route('/entry')\n",
    "def entry_page()->'html':\n",
    "    return render_template('entry.html',the_title='Welcome to search4letters on the web!')\n",
    "\n",
    "app.run()"
   ]
  },
  {
   "cell_type": "code",
   "execution_count": null,
   "metadata": {},
   "outputs": [],
   "source": []
  }
 ],
 "metadata": {
  "kernelspec": {
   "display_name": "Python 3",
   "language": "python",
   "name": "python3"
  },
  "language_info": {
   "codemirror_mode": {
    "name": "ipython",
    "version": 3
   },
   "file_extension": ".py",
   "mimetype": "text/x-python",
   "name": "python",
   "nbconvert_exporter": "python",
   "pygments_lexer": "ipython3",
   "version": "3.8.5"
  }
 },
 "nbformat": 4,
 "nbformat_minor": 4
}
